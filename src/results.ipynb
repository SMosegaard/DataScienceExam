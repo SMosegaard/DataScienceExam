{
 "cells": [
  {
   "cell_type": "code",
   "execution_count": null,
   "id": "0a1a1b36",
   "metadata": {},
   "outputs": [],
   "source": [
    "import pandas as pd\n",
    "\n",
    "import matplotlib.dates as mdates\n",
    "import matplotlib.pyplot as plt"
   ]
  },
  {
   "cell_type": "code",
   "execution_count": 38,
   "id": "02b4809a",
   "metadata": {},
   "outputs": [],
   "source": [
    "model_list = [\"arima\", \"lagllama\"]\n",
    "metrics = [\"mae\", \"rmse\", \"smape\"]\n",
    "group = [\"dataset\", \"train_size\", \"horizon\"]\n",
    "\n",
    "for model in model_list:\n",
    "    results = pd.read_csv(f\"../out/{model}_results.csv\")\n",
    "    mean_metrics_df = results.groupby(group)[metrics].agg([\"mean\", \"std\"])\n",
    "    mean_metrics_df = mean_metrics_df.reset_index()\n",
    "    mean_metrics_df_rounded = round(mean_metrics_df, 3)\n",
    "    mean_metrics_df_rounded.to_csv(f\"../out/{model}_mean_results.csv\")"
   ]
  },
  {
   "cell_type": "code",
   "execution_count": null,
   "id": "b90bbfbf",
   "metadata": {},
   "outputs": [],
   "source": [
    "model_list = [\"arima\", \"lagllama\"]\n",
    "\n",
    "dataset_label = [\"weather\", \"carbon\"]\n",
    "train_size_label = [\"small\", \"large\"]\n",
    "test_size_label = [\"small\", \"large\"]\n",
    "horizons = [5, 50]"
   ]
  },
  {
   "cell_type": "code",
   "execution_count": null,
   "id": "337844fb",
   "metadata": {},
   "outputs": [],
   "source": [
    "\n",
    "for dataset in dataset_label:\n",
    "    for train_size in train_size_label:\n",
    "        for horizon in horizons:\n",
    "            if horizon == 5:\n",
    "                test_size = \"small\"\n",
    "            elif horizon == 50:\n",
    "                test_size = \"large\"\n",
    "            \n",
    "            # True values:\n",
    "            train = pd.read_csv(f\"../data/train/{dataset}_train.csv\")\n",
    "            test = pd.read_csv(f\"../data/test/{dataset}_test_{test_size}.csv\")\n",
    "\n",
    "            if dataset == \"weather\":\n",
    "                train_y, test_y = train[\"Temperatur\"], test[\"Temperatur\"].iloc[:50]\n",
    "                ylabel = \"Temperature\"\n",
    "                title = \"Temperature Forecast\"\n",
    "            if dataset == \"carbon\":\n",
    "                train_y, test_y = train[\"Carbon_intensity\"], test[\"Carbon_intensity\"].iloc[:50]\n",
    "                ylabel = \"Carbon Intensity\"\n",
    "                title = \"Carbon Intensity Forecast\"\n",
    "     \n",
    "            true_y = pd.concat([train_y, test_y]).reset_index(drop = True)\n",
    "            true_x = pd.concat([train[\"Date\"], test[\"Date\"]]).iloc[:len(true_y)].reset_index(drop = True)\n",
    "\n",
    "            forecasts = {}\n",
    "            for model in model_list:\n",
    "                 \n",
    "                # Forecasted values:\n",
    "                forecast = pd.read_csv(f\"../out/{model}_{horizon}_{dataset}.csv\")\n",
    "\n",
    "                max_len = min(len(forecast), len(test))\n",
    "                forecast_y = forecast[\"0\"].iloc[:max_len].reset_index(drop = True)\n",
    "                forecast_x = test[\"Date\"].iloc[:max_len].reset_index(drop = True)\n",
    "                forecasts[model] = (forecast_x, forecast_y)\n",
    "\n",
    "            # Plot!\n",
    "\n",
    "            plt.figure(figsize = (14, 6))\n",
    "            ax = plt.gca()\n",
    "            ax.plot(true_x, true_y, label = \"True\", color = \"seagreen\")\n",
    "\n",
    "            for model in model_list:\n",
    "                forecast_x, forecast_y = forecasts[model]\n",
    "                ax.plot(forecast_x, forecast_y, label = model.upper())\n",
    "\n",
    "            ax.set_xlabel(\"Time\")\n",
    "            ax.set_ylabel(ylabel)\n",
    "            ax.set_title(title)\n",
    "            ax.legend(loc = \"lower right\")\n",
    "\n",
    "            ax.xaxis.set_major_locator(mdates.AutoDateLocator())\n",
    "            ax.xaxis.set_major_formatter(mdates.DataFormatter(\"%Y-%m-%d\"))\n",
    "\n",
    "            plt.xticks(rotation = 45)\n",
    "            plt.tight_layout()\n",
    "            plt.show()\n",
    "     "
   ]
  }
 ],
 "metadata": {
  "kernelspec": {
   "display_name": "Python 3",
   "language": "python",
   "name": "python3"
  },
  "language_info": {
   "codemirror_mode": {
    "name": "ipython",
    "version": 3
   },
   "file_extension": ".py",
   "mimetype": "text/x-python",
   "name": "python",
   "nbconvert_exporter": "python",
   "pygments_lexer": "ipython3",
   "version": "3.10.0rc2"
  }
 },
 "nbformat": 4,
 "nbformat_minor": 5
}
